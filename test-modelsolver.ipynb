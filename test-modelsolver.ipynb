{
 "cells": [
  {
   "attachments": {},
   "cell_type": "markdown",
   "metadata": {},
   "source": [
    "# Example of use of model-solver\n",
    "#### Magnus Kvåle Helliesen, mkh@ssb.no\n",
    "\n",
    "To import **ModelSolver** you need the following packages installed:\n",
    "* NumPy\n",
    "* NetworkX\n",
    "* SciPy\n",
    "* Pandas\n",
    "* SymEngine\n",
    "* Numba\n",
    "* collections\n",
    "* functools"
   ]
  },
  {
   "cell_type": "markdown",
   "metadata": {},
   "source": [
    "## Load class and initialize class"
   ]
  },
  {
   "cell_type": "code",
   "execution_count": 1,
   "metadata": {},
   "outputs": [],
   "source": [
    "import pandas as pd\n",
    "import src.model_solver as ms\n",
    "from IPython.display import display, HTML\n",
    "from ipywidgets import interact, Dropdown, IntSlider, SelectMultiple\n",
    "import matplotlib.pyplot as plt\n",
    "\n",
    "%matplotlib inline"
   ]
  },
  {
   "cell_type": "markdown",
   "metadata": {},
   "source": [
    "Defining lists of equations and endogenous variables as lists. These are what together *define* a particular **ModelSolver** class instance."
   ]
  },
  {
   "cell_type": "code",
   "execution_count": 2,
   "metadata": {},
   "outputs": [],
   "source": [
    "equations = [\n",
    "    'x1 = a1',\n",
    "    'x2 = a2',\n",
    "    '0.2*x1+0.7*x2 = 0.1*ca+0.8*cb+0.3*i1',\n",
    "    '0.8*x1+0.3*x2 = 0.9*ca+0.2*cb+0.1*i2',\n",
    "    'k1 = k1(-1)+i1',\n",
    "    'k2 = k2(-1)+i2'\n",
    "    ]\n",
    "endogenous = ['x1', 'x2', 'ca', 'cb', 'k1', 'k2']"
   ]
  },
  {
   "cell_type": "markdown",
   "metadata": {},
   "source": [
    "Initiate instance of **ModelSolver** class called *model*."
   ]
  },
  {
   "cell_type": "code",
   "execution_count": 3,
   "metadata": {},
   "outputs": [
    {
     "name": "stdout",
     "output_type": "stream",
     "text": [
      "----------------------------------------------------------------------------------------------------\n",
      "Initializing model...\n",
      "* Importing equations\n",
      "* Importing endogenous variables\n",
      "* Analyzing model...\n",
      "\t* Analyzing equation strings\n",
      "\t* Generating bipartite graph connecting equations and endogenous variables\n",
      "\t* Finding maximum bipartite match (MBM) (i.e. associating every equation with exactly one endogenus variable)\n",
      "\t* Generating directed graph (DiGraph) connecting endogenous variables using bipartite graph and MBM\n",
      "\t* Finding condensation of DiGraph (i.e. finding minimum simulataneous equation blocks)\n",
      "\t* Generating simulation code (i.e. block-wise symbolic objective function, symbolic Jacobian matrix and lists of endogenous and exogenous variables)\n",
      "Finished\n",
      "----------------------------------------------------------------------------------------------------\n"
     ]
    }
   ],
   "source": [
    "model = ms.ModelSolver(equations, endogenous)"
   ]
  },
  {
   "cell_type": "code",
   "execution_count": null,
   "metadata": {},
   "outputs": [],
   "source": [
    "model.describe()"
   ]
  },
  {
   "cell_type": "code",
   "execution_count": 4,
   "metadata": {},
   "outputs": [
    {
     "name": "stdout",
     "output_type": "stream",
     "text": [
      "-------------------------------------------------- Block 1 --------------------------------------------------\n",
      "Block consists of a definition\n",
      "\n",
      "1 endogenous variables:\n",
      "k2\n",
      "\n",
      "2 exogenous variables:\n",
      "i2 k2(-1)\n",
      "\n",
      "1 equations:\n",
      "k2 = k2(-1)+i2\n",
      "-------------------------------------------------- Block 2 --------------------------------------------------\n",
      "Block consists of a definition\n",
      "\n",
      "1 endogenous variables:\n",
      "k1\n",
      "\n",
      "2 exogenous variables:\n",
      "k1(-1) i1\n",
      "\n",
      "1 equations:\n",
      "k1 = k1(-1)+i1\n",
      "-------------------------------------------------- Block 3 --------------------------------------------------\n",
      "Block consists of a definition\n",
      "\n",
      "1 endogenous variables:\n",
      "x2\n",
      "\n",
      "1 exogenous variables:\n",
      "a2\n",
      "\n",
      "1 equations:\n",
      "x2 = a2\n",
      "-------------------------------------------------- Block 4 --------------------------------------------------\n",
      "Block consists of a definition\n",
      "\n",
      "1 endogenous variables:\n",
      "x1\n",
      "\n",
      "1 exogenous variables:\n",
      "a1\n",
      "\n",
      "1 equations:\n",
      "x1 = a1\n",
      "-------------------------------------------------- Block 5 --------------------------------------------------\n",
      "Block consists of an equation or a system of equations\n",
      "\n",
      "2 endogenous variables:\n",
      "cb ca\n",
      "\n",
      "4 exogenous variables:\n",
      "i2 i1 x2 x1\n",
      "\n",
      "2 equations:\n",
      "0.8*x1+0.3*x2 = 0.9*ca+0.2*cb+0.1*i2\n",
      "0.2*x1+0.7*x2 = 0.1*ca+0.8*cb+0.3*i1\n"
     ]
    }
   ],
   "source": [
    "model.show_blocks()"
   ]
  },
  {
   "cell_type": "markdown",
   "metadata": {},
   "source": [
    "Make Pandas dataframe. Data contains exogenous variables and initial values for endogenous variables."
   ]
  },
  {
   "cell_type": "code",
   "execution_count": 5,
   "metadata": {},
   "outputs": [
    {
     "data": {
      "text/html": [
       "<div>\n",
       "<style scoped>\n",
       "    .dataframe tbody tr th:only-of-type {\n",
       "        vertical-align: middle;\n",
       "    }\n",
       "\n",
       "    .dataframe tbody tr th {\n",
       "        vertical-align: top;\n",
       "    }\n",
       "\n",
       "    .dataframe thead th {\n",
       "        text-align: right;\n",
       "    }\n",
       "</style>\n",
       "<table border=\"1\" class=\"dataframe\">\n",
       "  <thead>\n",
       "    <tr style=\"text-align: right;\">\n",
       "      <th></th>\n",
       "      <th>x1</th>\n",
       "      <th>x2</th>\n",
       "      <th>ca</th>\n",
       "      <th>cb</th>\n",
       "      <th>k1</th>\n",
       "      <th>k2</th>\n",
       "      <th>a1</th>\n",
       "      <th>a2</th>\n",
       "      <th>i1</th>\n",
       "      <th>i2</th>\n",
       "    </tr>\n",
       "  </thead>\n",
       "  <tbody>\n",
       "    <tr>\n",
       "      <th>2019Q1</th>\n",
       "      <td>2.0</td>\n",
       "      <td>2.0</td>\n",
       "      <td>1.0</td>\n",
       "      <td>1.0</td>\n",
       "      <td>1.0</td>\n",
       "      <td>1.0</td>\n",
       "      <td>1.0</td>\n",
       "      <td>3.0</td>\n",
       "      <td>1.0</td>\n",
       "      <td>3.0</td>\n",
       "    </tr>\n",
       "    <tr>\n",
       "      <th>2019Q2</th>\n",
       "      <td>4.0</td>\n",
       "      <td>1.0</td>\n",
       "      <td>3.0</td>\n",
       "      <td>2.0</td>\n",
       "      <td>3.0</td>\n",
       "      <td>2.0</td>\n",
       "      <td>2.0</td>\n",
       "      <td>2.0</td>\n",
       "      <td>2.0</td>\n",
       "      <td>2.0</td>\n",
       "    </tr>\n",
       "    <tr>\n",
       "      <th>2020Q3</th>\n",
       "      <td>1.0</td>\n",
       "      <td>2.0</td>\n",
       "      <td>4.0</td>\n",
       "      <td>1.0</td>\n",
       "      <td>4.0</td>\n",
       "      <td>1.0</td>\n",
       "      <td>4.0</td>\n",
       "      <td>3.0</td>\n",
       "      <td>4.0</td>\n",
       "      <td>3.0</td>\n",
       "    </tr>\n",
       "    <tr>\n",
       "      <th>2020Q4</th>\n",
       "      <td>2.0</td>\n",
       "      <td>3.0</td>\n",
       "      <td>1.0</td>\n",
       "      <td>4.0</td>\n",
       "      <td>1.0</td>\n",
       "      <td>4.0</td>\n",
       "      <td>4.0</td>\n",
       "      <td>4.0</td>\n",
       "      <td>4.0</td>\n",
       "      <td>4.0</td>\n",
       "    </tr>\n",
       "  </tbody>\n",
       "</table>\n",
       "</div>"
      ],
      "text/plain": [
       "         x1   x2   ca   cb   k1   k2   a1   a2   i1   i2\n",
       "2019Q1  2.0  2.0  1.0  1.0  1.0  1.0  1.0  3.0  1.0  3.0\n",
       "2019Q2  4.0  1.0  3.0  2.0  3.0  2.0  2.0  2.0  2.0  2.0\n",
       "2020Q3  1.0  2.0  4.0  1.0  4.0  1.0  4.0  3.0  4.0  3.0\n",
       "2020Q4  2.0  3.0  1.0  4.0  1.0  4.0  4.0  4.0  4.0  4.0"
      ]
     },
     "execution_count": 5,
     "metadata": {},
     "output_type": "execute_result"
    }
   ],
   "source": [
    "input_data = pd.DataFrame({'x1': [2,4,1,2], 'x2': [2,1,2,3], 'ca': [1,3,4,1], 'cb': [1,2,1,4], 'k1': [1,3,4,1], 'k2': [1,2,1,4],\n",
    "                           'a1': [1,2,4,4], 'a2': [3,2,3,4], 'i1': [1,2,4,4], 'i2': [3,2,3,4]}, index=['2019Q1', '2019Q2', '2020Q3', '2020Q4'], dtype=float)\n",
    "input_data"
   ]
  },
  {
   "cell_type": "markdown",
   "metadata": {},
   "source": [
    "Run model instance with respect to data."
   ]
  },
  {
   "cell_type": "code",
   "execution_count": 6,
   "metadata": {},
   "outputs": [
    {
     "name": "stdout",
     "output_type": "stream",
     "text": [
      "----------------------------------------------------------------------------------------------------\n",
      "Solving model...\n",
      "\tFirst period: 2019Q2, last period: 2020Q4\n",
      "\tSolving\n",
      "\t|   |\n",
      "\t ...\n",
      "Finished\n",
      "----------------------------------------------------------------------------------------------------\n"
     ]
    },
    {
     "data": {
      "text/html": [
       "<div>\n",
       "<style scoped>\n",
       "    .dataframe tbody tr th:only-of-type {\n",
       "        vertical-align: middle;\n",
       "    }\n",
       "\n",
       "    .dataframe tbody tr th {\n",
       "        vertical-align: top;\n",
       "    }\n",
       "\n",
       "    .dataframe thead th {\n",
       "        text-align: right;\n",
       "    }\n",
       "</style>\n",
       "<table border=\"1\" class=\"dataframe\">\n",
       "  <thead>\n",
       "    <tr style=\"text-align: right;\">\n",
       "      <th></th>\n",
       "      <th>x1</th>\n",
       "      <th>x2</th>\n",
       "      <th>ca</th>\n",
       "      <th>cb</th>\n",
       "      <th>k1</th>\n",
       "      <th>k2</th>\n",
       "      <th>a1</th>\n",
       "      <th>a2</th>\n",
       "      <th>i1</th>\n",
       "      <th>i2</th>\n",
       "    </tr>\n",
       "  </thead>\n",
       "  <tbody>\n",
       "    <tr>\n",
       "      <th>2019Q1</th>\n",
       "      <td>2.0</td>\n",
       "      <td>2.0</td>\n",
       "      <td>1.000000</td>\n",
       "      <td>1.000000</td>\n",
       "      <td>1.0</td>\n",
       "      <td>1.0</td>\n",
       "      <td>1.0</td>\n",
       "      <td>3.0</td>\n",
       "      <td>1.0</td>\n",
       "      <td>3.0</td>\n",
       "    </tr>\n",
       "    <tr>\n",
       "      <th>2019Q2</th>\n",
       "      <td>2.0</td>\n",
       "      <td>2.0</td>\n",
       "      <td>1.942857</td>\n",
       "      <td>1.257143</td>\n",
       "      <td>3.0</td>\n",
       "      <td>3.0</td>\n",
       "      <td>2.0</td>\n",
       "      <td>2.0</td>\n",
       "      <td>2.0</td>\n",
       "      <td>2.0</td>\n",
       "    </tr>\n",
       "    <tr>\n",
       "      <th>2020Q3</th>\n",
       "      <td>4.0</td>\n",
       "      <td>3.0</td>\n",
       "      <td>3.857143</td>\n",
       "      <td>1.642857</td>\n",
       "      <td>7.0</td>\n",
       "      <td>6.0</td>\n",
       "      <td>4.0</td>\n",
       "      <td>3.0</td>\n",
       "      <td>4.0</td>\n",
       "      <td>3.0</td>\n",
       "    </tr>\n",
       "    <tr>\n",
       "      <th>2020Q4</th>\n",
       "      <td>4.0</td>\n",
       "      <td>4.0</td>\n",
       "      <td>3.885714</td>\n",
       "      <td>2.514286</td>\n",
       "      <td>11.0</td>\n",
       "      <td>10.0</td>\n",
       "      <td>4.0</td>\n",
       "      <td>4.0</td>\n",
       "      <td>4.0</td>\n",
       "      <td>4.0</td>\n",
       "    </tr>\n",
       "  </tbody>\n",
       "</table>\n",
       "</div>"
      ],
      "text/plain": [
       "         x1   x2        ca        cb    k1    k2   a1   a2   i1   i2\n",
       "2019Q1  2.0  2.0  1.000000  1.000000   1.0   1.0  1.0  3.0  1.0  3.0\n",
       "2019Q2  2.0  2.0  1.942857  1.257143   3.0   3.0  2.0  2.0  2.0  2.0\n",
       "2020Q3  4.0  3.0  3.857143  1.642857   7.0   6.0  4.0  3.0  4.0  3.0\n",
       "2020Q4  4.0  4.0  3.885714  2.514286  11.0  10.0  4.0  4.0  4.0  4.0"
      ]
     },
     "execution_count": 6,
     "metadata": {},
     "output_type": "execute_result"
    }
   ],
   "source": [
    "solution = model.solve_model(input_data)\n",
    "solution"
   ]
  },
  {
   "cell_type": "markdown",
   "metadata": {},
   "source": [
    "Make graph plot of some variable showing what block it's in what blocks is it's ancestors and decendants."
   ]
  },
  {
   "cell_type": "code",
   "execution_count": 7,
   "metadata": {},
   "outputs": [
    {
     "data": {
      "application/vnd.jupyter.widget-view+json": {
       "model_id": "56d8a4bb43f046d69cadabf35d7ecacc",
       "version_major": 2,
       "version_minor": 0
      },
      "text/plain": [
       "interactive(children=(Dropdown(description='Endogenous:', options=('x1', 'x2', 'ca', 'cb', 'k1', 'k2'), value=…"
      ]
     },
     "metadata": {},
     "output_type": "display_data"
    }
   ],
   "source": [
    "@interact(end_var=Dropdown(options=endogenous, value=endogenous[0], description='Endogenous:'),\n",
    "          a=IntSlider(min=0, max=10, step=1, value=2, description='Max ancestors:'),\n",
    "          d=IntSlider(min=0, max=10, step=1, value=2, description='Max decendants:'),\n",
    "          n=IntSlider(min=0, max=1000, step=10, value=50, description='Max nodes:'))\n",
    "def auto_draw_blockwise_graph(end_var, a, d, n):\n",
    "    model.draw_blockwise_graph(end_var, a, d, n)"
   ]
  },
  {
   "cell_type": "code",
   "execution_count": null,
   "metadata": {},
   "outputs": [
    {
     "data": {
      "application/vnd.jupyter.widget-view+json": {
       "model_id": "06f0f299b064440d88131a48416a3ed9",
       "version_major": 2,
       "version_minor": 0
      },
      "text/plain": [
       "interactive(children=(SelectMultiple(description='Variables:', options=('x1', 'x2', 'ca', 'cb', 'k1', 'k2', 'a…"
      ]
     },
     "metadata": {},
     "output_type": "display_data"
    }
   ],
   "source": [
    "@interact(var=SelectMultiple(options=input_data.columns, rows=20, description='Variables:'))\n",
    "def plot(var):\n",
    "    try:\n",
    "        plt.figure(figsize=(5, 5))\n",
    "        solution[list(var)].plot.line(color=['red', 'green', 'blue', 'orange', 'black'])\n",
    "        plt.show()\n",
    "    except TypeError:\n",
    "        pass\n",
    "    except NameError:\n",
    "        pass"
   ]
  }
 ],
 "metadata": {
  "kernelspec": {
   "display_name": "base",
   "language": "python",
   "name": "python3"
  },
  "language_info": {
   "codemirror_mode": {
    "name": "ipython",
    "version": 3
   },
   "file_extension": ".py",
   "mimetype": "text/x-python",
   "name": "python",
   "nbconvert_exporter": "python",
   "pygments_lexer": "ipython3",
   "version": "3.10.10"
  }
 },
 "nbformat": 4,
 "nbformat_minor": 4
}
