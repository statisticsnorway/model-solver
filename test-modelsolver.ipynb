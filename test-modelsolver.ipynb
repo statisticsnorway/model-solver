{
 "cells": [
  {
   "attachments": {},
   "cell_type": "markdown",
   "metadata": {},
   "source": [
    "# Example of use of **ModelSolver**\n",
    "#### Magnus Kvåle Helliesen, mkh@ssb.no\n",
    "\n",
    "This Notebook shows basic useage of **ModelSolver**.\n",
    "The algorithm analyzes and solves an input-output model used in the Norwegian monthly national accounts with more than 15,500 equations in under a minute for more than 30 months on a laptop computer.\n",
    "\n",
    "To import **ModelSolver** you need the following packages installed:\n",
    "* NumPy\n",
    "* NetworkX\n",
    "* Pandas\n",
    "* SymEngine\n",
    "* Numba\n",
    "* collections\n",
    "* functools\n",
    "* Matplotlib"
   ]
  },
  {
   "attachments": {},
   "cell_type": "markdown",
   "metadata": {},
   "source": [
    "## Load class and initialize class\n",
    "We first load all packages and the model class itself:"
   ]
  },
  {
   "cell_type": "code",
   "execution_count": 1,
   "metadata": {},
   "outputs": [],
   "source": [
    "import pandas as pd\n",
    "import src.model_solver as ms\n",
    "\n",
    "%matplotlib inline"
   ]
  },
  {
   "attachments": {},
   "cell_type": "markdown",
   "metadata": {},
   "source": [
    "We define lists of equations and endogenous variables.\n",
    "These are what together *define* a particular **ModelSolver** class instance:"
   ]
  },
  {
   "cell_type": "code",
   "execution_count": 2,
   "metadata": {},
   "outputs": [],
   "source": [
    "equations = [\n",
    "    'x1 = a1',\n",
    "    'x2 = a2',\n",
    "    '0.2*x1+0.7*x2 = 0.1*ca+0.8*cb+0.3*i1',\n",
    "    '0.8*x1+0.3*x2 = 0.9*ca+0.2*cb+0.1*i2',\n",
    "    'k1 = k1(-1)+i1',\n",
    "    'k2 = k2(-1)+i2'\n",
    "    ]\n",
    "endogenous = ['x1', 'x2', 'ca', 'cb', 'k1', 'k2']"
   ]
  },
  {
   "attachments": {},
   "cell_type": "markdown",
   "metadata": {},
   "source": [
    "We initiate an instance of **ModelSolver** class called *model*:"
   ]
  },
  {
   "cell_type": "code",
   "execution_count": 3,
   "metadata": {},
   "outputs": [
    {
     "name": "stdout",
     "output_type": "stream",
     "text": [
      "----------------------------------------------------------------------------------------------------\n",
      "Initializing model...\n",
      "* Importing equations\n",
      "* Importing endogenous variables\n",
      "* Analyzing model...\n",
      "\t* Analyzing equation strings\n",
      "\t* Generating bipartite graph connecting equations and endogenous variables\n",
      "\t* Finding maximum bipartite match (MBM) (i.e. associating every equation with exactly one endogenus variable)\n",
      "\t* Generating directed graph (DiGraph) connecting endogenous variables using bipartite graph and MBM\n",
      "\t* Finding condensation of DiGraph (i.e. finding minimum simulataneous equation blocks)\n",
      "\t* Generating simulation code (i.e. block-wise symbolic objective function, symbolic Jacobian matrix and lists of endogenous and exogenous variables)\n",
      "Finished\n",
      "----------------------------------------------------------------------------------------------------\n"
     ]
    }
   ],
   "source": [
    "model = ms.ModelSolver(equations, endogenous)"
   ]
  },
  {
   "attachments": {},
   "cell_type": "markdown",
   "metadata": {},
   "source": [
    "We let **ModelSolver** describe the model to us:"
   ]
  },
  {
   "cell_type": "code",
   "execution_count": 4,
   "metadata": {},
   "outputs": [
    {
     "name": "stdout",
     "output_type": "stream",
     "text": [
      "----------------------------------------------------------------------------------------------------\n",
      "Model consists of 6 equations in 5 blocks\n",
      "4 of the blocks consist of simple definitions\n",
      "\n",
      "4 blocks have 1 equations\n",
      "1 blocks have 2 equations\n",
      "----------------------------------------------------------------------------------------------------\n"
     ]
    }
   ],
   "source": [
    "model.describe()"
   ]
  },
  {
   "attachments": {},
   "cell_type": "markdown",
   "metadata": {},
   "source": [
    "We can also inspect all the blocks:"
   ]
  },
  {
   "cell_type": "code",
   "execution_count": 5,
   "metadata": {},
   "outputs": [
    {
     "name": "stdout",
     "output_type": "stream",
     "text": [
      "-------------------------------------------------- Block 1 --------------------------------------------------\n",
      "Block consists of a definition\n",
      "\n",
      "1 endogenous variables:\n",
      "k2\n",
      "\n",
      "2 predetermined variables:\n",
      "i2 k2(-1)\n",
      "\n",
      "1 equations:\n",
      "k2 = k2(-1)+i2\n",
      "-------------------------------------------------- Block 2 --------------------------------------------------\n",
      "Block consists of a definition\n",
      "\n",
      "1 endogenous variables:\n",
      "k1\n",
      "\n",
      "2 predetermined variables:\n",
      "k1(-1) i1\n",
      "\n",
      "1 equations:\n",
      "k1 = k1(-1)+i1\n",
      "-------------------------------------------------- Block 3 --------------------------------------------------\n",
      "Block consists of a definition\n",
      "\n",
      "1 endogenous variables:\n",
      "x2\n",
      "\n",
      "1 predetermined variables:\n",
      "a2\n",
      "\n",
      "1 equations:\n",
      "x2 = a2\n",
      "-------------------------------------------------- Block 4 --------------------------------------------------\n",
      "Block consists of a definition\n",
      "\n",
      "1 endogenous variables:\n",
      "x1\n",
      "\n",
      "1 predetermined variables:\n",
      "a1\n",
      "\n",
      "1 equations:\n",
      "x1 = a1\n",
      "-------------------------------------------------- Block 5 --------------------------------------------------\n",
      "Block consists of an equation or a system of equations\n",
      "\n",
      "2 endogenous variables:\n",
      "cb ca\n",
      "\n",
      "4 predetermined variables:\n",
      "i2 i1 x1 x2\n",
      "\n",
      "2 equations:\n",
      "0.8*x1+0.3*x2 = 0.9*ca+0.2*cb+0.1*i2\n",
      "0.2*x1+0.7*x2 = 0.1*ca+0.8*cb+0.3*i1\n"
     ]
    }
   ],
   "source": [
    "model.show_blocks()"
   ]
  },
  {
   "attachments": {},
   "cell_type": "markdown",
   "metadata": {},
   "source": [
    "## Solve the model subject to data\n",
    "\n",
    "We make a Pandas DataFrame:"
   ]
  },
  {
   "cell_type": "code",
   "execution_count": 6,
   "metadata": {},
   "outputs": [
    {
     "data": {
      "text/html": [
       "<div>\n",
       "<style scoped>\n",
       "    .dataframe tbody tr th:only-of-type {\n",
       "        vertical-align: middle;\n",
       "    }\n",
       "\n",
       "    .dataframe tbody tr th {\n",
       "        vertical-align: top;\n",
       "    }\n",
       "\n",
       "    .dataframe thead th {\n",
       "        text-align: right;\n",
       "    }\n",
       "</style>\n",
       "<table border=\"1\" class=\"dataframe\">\n",
       "  <thead>\n",
       "    <tr style=\"text-align: right;\">\n",
       "      <th></th>\n",
       "      <th>x1</th>\n",
       "      <th>x2</th>\n",
       "      <th>ca</th>\n",
       "      <th>cb</th>\n",
       "      <th>k1</th>\n",
       "      <th>k2</th>\n",
       "      <th>a1</th>\n",
       "      <th>a2</th>\n",
       "      <th>i1</th>\n",
       "      <th>i2</th>\n",
       "    </tr>\n",
       "  </thead>\n",
       "  <tbody>\n",
       "    <tr>\n",
       "      <th>2019Q1</th>\n",
       "      <td>2.0</td>\n",
       "      <td>2.0</td>\n",
       "      <td>1.0</td>\n",
       "      <td>1.0</td>\n",
       "      <td>1.0</td>\n",
       "      <td>1.0</td>\n",
       "      <td>1.0</td>\n",
       "      <td>3.0</td>\n",
       "      <td>1.0</td>\n",
       "      <td>3.0</td>\n",
       "    </tr>\n",
       "    <tr>\n",
       "      <th>2019Q2</th>\n",
       "      <td>4.0</td>\n",
       "      <td>1.0</td>\n",
       "      <td>3.0</td>\n",
       "      <td>2.0</td>\n",
       "      <td>3.0</td>\n",
       "      <td>2.0</td>\n",
       "      <td>2.0</td>\n",
       "      <td>2.0</td>\n",
       "      <td>2.0</td>\n",
       "      <td>2.0</td>\n",
       "    </tr>\n",
       "    <tr>\n",
       "      <th>2020Q3</th>\n",
       "      <td>1.0</td>\n",
       "      <td>2.0</td>\n",
       "      <td>4.0</td>\n",
       "      <td>1.0</td>\n",
       "      <td>4.0</td>\n",
       "      <td>1.0</td>\n",
       "      <td>4.0</td>\n",
       "      <td>3.0</td>\n",
       "      <td>4.0</td>\n",
       "      <td>3.0</td>\n",
       "    </tr>\n",
       "    <tr>\n",
       "      <th>2020Q4</th>\n",
       "      <td>2.0</td>\n",
       "      <td>3.0</td>\n",
       "      <td>1.0</td>\n",
       "      <td>4.0</td>\n",
       "      <td>1.0</td>\n",
       "      <td>4.0</td>\n",
       "      <td>4.0</td>\n",
       "      <td>4.0</td>\n",
       "      <td>4.0</td>\n",
       "      <td>4.0</td>\n",
       "    </tr>\n",
       "  </tbody>\n",
       "</table>\n",
       "</div>"
      ],
      "text/plain": [
       "         x1   x2   ca   cb   k1   k2   a1   a2   i1   i2\n",
       "2019Q1  2.0  2.0  1.0  1.0  1.0  1.0  1.0  3.0  1.0  3.0\n",
       "2019Q2  4.0  1.0  3.0  2.0  3.0  2.0  2.0  2.0  2.0  2.0\n",
       "2020Q3  1.0  2.0  4.0  1.0  4.0  1.0  4.0  3.0  4.0  3.0\n",
       "2020Q4  2.0  3.0  1.0  4.0  1.0  4.0  4.0  4.0  4.0  4.0"
      ]
     },
     "execution_count": 6,
     "metadata": {},
     "output_type": "execute_result"
    }
   ],
   "source": [
    "input_data = pd.DataFrame({'x1': [2,4,1,2],\n",
    "                           'x2': [2,1,2,3],\n",
    "                           'ca': [1,3,4,1],\n",
    "                           'cb': [1,2,1,4],\n",
    "                           'k1': [1,3,4,1],\n",
    "                           'k2': [1,2,1,4],\n",
    "                           'a1': [1,2,4,4],\n",
    "                           'a2': [3,2,3,4],\n",
    "                           'i1': [1,2,4,4],\n",
    "                           'i2': [3,2,3,4]\n",
    "                           },\n",
    "                           index=['2019Q1', '2019Q2', '2020Q3', '2020Q4'], dtype=float)\n",
    "input_data.head()"
   ]
  },
  {
   "attachments": {},
   "cell_type": "markdown",
   "metadata": {},
   "source": [
    "The data contain exogenous variables and initial values for endogenous variables."
   ]
  },
  {
   "attachments": {},
   "cell_type": "markdown",
   "metadata": {},
   "source": [
    "We call the method that solves the model, subject to the data in the DataFrame:"
   ]
  },
  {
   "cell_type": "code",
   "execution_count": 7,
   "metadata": {},
   "outputs": [
    {
     "name": "stdout",
     "output_type": "stream",
     "text": [
      "----------------------------------------------------------------------------------------------------\n",
      "Solving model...\n",
      "\tFirst period: 2019Q2, last period: 2020Q4\n",
      "\tSolving\n",
      "\t|   |\n",
      "\t ...\n",
      "Finished\n",
      "----------------------------------------------------------------------------------------------------\n"
     ]
    },
    {
     "data": {
      "text/html": [
       "<div>\n",
       "<style scoped>\n",
       "    .dataframe tbody tr th:only-of-type {\n",
       "        vertical-align: middle;\n",
       "    }\n",
       "\n",
       "    .dataframe tbody tr th {\n",
       "        vertical-align: top;\n",
       "    }\n",
       "\n",
       "    .dataframe thead th {\n",
       "        text-align: right;\n",
       "    }\n",
       "</style>\n",
       "<table border=\"1\" class=\"dataframe\">\n",
       "  <thead>\n",
       "    <tr style=\"text-align: right;\">\n",
       "      <th></th>\n",
       "      <th>x1</th>\n",
       "      <th>x2</th>\n",
       "      <th>ca</th>\n",
       "      <th>cb</th>\n",
       "      <th>k1</th>\n",
       "      <th>k2</th>\n",
       "      <th>a1</th>\n",
       "      <th>a2</th>\n",
       "      <th>i1</th>\n",
       "      <th>i2</th>\n",
       "    </tr>\n",
       "  </thead>\n",
       "  <tbody>\n",
       "    <tr>\n",
       "      <th>2019Q2</th>\n",
       "      <td>2.0</td>\n",
       "      <td>2.0</td>\n",
       "      <td>1.942857</td>\n",
       "      <td>1.257143</td>\n",
       "      <td>3.0</td>\n",
       "      <td>3.0</td>\n",
       "      <td>2.0</td>\n",
       "      <td>2.0</td>\n",
       "      <td>2.0</td>\n",
       "      <td>2.0</td>\n",
       "    </tr>\n",
       "    <tr>\n",
       "      <th>2020Q3</th>\n",
       "      <td>4.0</td>\n",
       "      <td>3.0</td>\n",
       "      <td>3.857143</td>\n",
       "      <td>1.642857</td>\n",
       "      <td>7.0</td>\n",
       "      <td>6.0</td>\n",
       "      <td>4.0</td>\n",
       "      <td>3.0</td>\n",
       "      <td>4.0</td>\n",
       "      <td>3.0</td>\n",
       "    </tr>\n",
       "    <tr>\n",
       "      <th>2020Q4</th>\n",
       "      <td>4.0</td>\n",
       "      <td>4.0</td>\n",
       "      <td>3.885714</td>\n",
       "      <td>2.514286</td>\n",
       "      <td>11.0</td>\n",
       "      <td>10.0</td>\n",
       "      <td>4.0</td>\n",
       "      <td>4.0</td>\n",
       "      <td>4.0</td>\n",
       "      <td>4.0</td>\n",
       "    </tr>\n",
       "  </tbody>\n",
       "</table>\n",
       "</div>"
      ],
      "text/plain": [
       "         x1   x2        ca        cb    k1    k2   a1   a2   i1   i2\n",
       "2019Q2  2.0  2.0  1.942857  1.257143   3.0   3.0  2.0  2.0  2.0  2.0\n",
       "2020Q3  4.0  3.0  3.857143  1.642857   7.0   6.0  4.0  3.0  4.0  3.0\n",
       "2020Q4  4.0  4.0  3.885714  2.514286  11.0  10.0  4.0  4.0  4.0  4.0"
      ]
     },
     "execution_count": 7,
     "metadata": {},
     "output_type": "execute_result"
    }
   ],
   "source": [
    "solution = model.solve_model(input_data)\n",
    "solution.head()"
   ]
  },
  {
   "attachments": {},
   "cell_type": "markdown",
   "metadata": {},
   "source": [
    "We make a graph of some variable showing what block it's in, and what blocks are it's ancestors and decendants."
   ]
  },
  {
   "cell_type": "code",
   "execution_count": 8,
   "metadata": {},
   "outputs": [
    {
     "name": "stdout",
     "output_type": "stream",
     "text": [
      "Graph of block containing ca with <=5 generations of ancestors and <=5 generations of decendants: DiGraph with 7 nodes and 6 edges\n"
     ]
    },
    {
     "data": {
      "image/png": "[encoded data removed]",
      "text/plain": [
       "<Figure size 750x750 with 1 Axes>"
      ]
     },
     "metadata": {},
     "output_type": "display_data"
    }
   ],
   "source": [
    "model.draw_blockwise_graph('ca')"
   ]
  },
  {
   "attachments": {},
   "cell_type": "markdown",
   "metadata": {},
   "source": [
    "## Switch endogenous variables and analyze new model\n",
    "\n",
    "We ask **ModelSolver** to make $x1$ exogenous and $a1$ endogenous:"
   ]
  },
  {
   "cell_type": "code",
   "execution_count": 9,
   "metadata": {},
   "outputs": [
    {
     "name": "stdout",
     "output_type": "stream",
     "text": [
      "Analyzing model...\n",
      "\t* Generating bipartite graph connecting equations and endogenous variables\n",
      "\t* Finding maximum bipartite match (MBM) (i.e. associating every equation with exactly one endogenus variable)\n",
      "\t* Generating directed graph (DiGraph) connecting endogenous variables using bipartite graph and MBM\n",
      "\t* Finding condensation of DiGraph (i.e. finding minimum simulataneous equation blocks)\n",
      "\t* Generating simulation code (i.e. block-wise symbolic objective function, symbolic Jacobian matrix and lists of endogenous and exogenous variables)\n",
      "Finished\n"
     ]
    }
   ],
   "source": [
    "model.switch_endo_var(['x1'], ['a1'])"
   ]
  },
  {
   "attachments": {},
   "cell_type": "markdown",
   "metadata": {},
   "source": [
    "We inspect the blocks of this new model:"
   ]
  },
  {
   "cell_type": "code",
   "execution_count": 10,
   "metadata": {},
   "outputs": [
    {
     "name": "stdout",
     "output_type": "stream",
     "text": [
      "-------------------------------------------------- Block 1 --------------------------------------------------\n",
      "Block consists of an equation or a system of equations\n",
      "\n",
      "1 endogenous variables:\n",
      "a1\n",
      "\n",
      "1 predetermined variables:\n",
      "x1\n",
      "\n",
      "1 equations:\n",
      "x1 = a1\n",
      "-------------------------------------------------- Block 2 --------------------------------------------------\n",
      "Block consists of a definition\n",
      "\n",
      "1 endogenous variables:\n",
      "k2\n",
      "\n",
      "2 predetermined variables:\n",
      "i2 k2(-1)\n",
      "\n",
      "1 equations:\n",
      "k2 = k2(-1)+i2\n",
      "-------------------------------------------------- Block 3 --------------------------------------------------\n",
      "Block consists of a definition\n",
      "\n",
      "1 endogenous variables:\n",
      "k1\n",
      "\n",
      "2 predetermined variables:\n",
      "k1(-1) i1\n",
      "\n",
      "1 equations:\n",
      "k1 = k1(-1)+i1\n",
      "-------------------------------------------------- Block 4 --------------------------------------------------\n",
      "Block consists of a definition\n",
      "\n",
      "1 endogenous variables:\n",
      "x2\n",
      "\n",
      "1 predetermined variables:\n",
      "a2\n",
      "\n",
      "1 equations:\n",
      "x2 = a2\n",
      "-------------------------------------------------- Block 5 --------------------------------------------------\n",
      "Block consists of an equation or a system of equations\n",
      "\n",
      "2 endogenous variables:\n",
      "cb ca\n",
      "\n",
      "4 predetermined variables:\n",
      "i2 i1 x1 x2\n",
      "\n",
      "2 equations:\n",
      "0.8*x1+0.3*x2 = 0.9*ca+0.2*cb+0.1*i2\n",
      "0.2*x1+0.7*x2 = 0.1*ca+0.8*cb+0.3*i1\n"
     ]
    }
   ],
   "source": [
    "model.show_blocks()"
   ]
  },
  {
   "attachments": {},
   "cell_type": "markdown",
   "metadata": {},
   "source": [
    "We make graph plot of the same variable as above showing what block it's in, and what blocks are it's ancestors and decendants.\n",
    "We observe that the graph has changed after swithcing endogenous variables."
   ]
  },
  {
   "cell_type": "code",
   "execution_count": 15,
   "metadata": {},
   "outputs": [
    {
     "name": "stdout",
     "output_type": "stream",
     "text": [
      "Graph of block containing ca with <=5 generations of ancestors and <=5 generations of decendants: DiGraph with 6 nodes and 5 edges\n"
     ]
    },
    {
     "data": {
      "image/png": "[encoded data removed]",
      "text/plain": [
       "<Figure size 750x750 with 1 Axes>"
      ]
     },
     "metadata": {},
     "output_type": "display_data"
    }
   ],
   "source": [
    "model.draw_blockwise_graph('ca')"
   ]
  },
  {
   "cell_type": "code",
   "execution_count": 12,
   "metadata": {},
   "outputs": [
    {
     "data": {
      "text/plain": [
       "5"
      ]
     },
     "execution_count": 12,
     "metadata": {},
     "output_type": "execute_result"
    }
   ],
   "source": [
    "model.find_endo_var('ca')"
   ]
  }
 ],
 "metadata": {
  "kernelspec": {
   "display_name": "base",
   "language": "python",
   "name": "python3"
  },
  "language_info": {
   "codemirror_mode": {
    "name": "ipython",
    "version": 3
   },
   "file_extension": ".py",
   "mimetype": "text/x-python",
   "name": "python",
   "nbconvert_exporter": "python",
   "pygments_lexer": "ipython3",
   "version": "3.10.11"
  }
 },
 "nbformat": 4,
 "nbformat_minor": 4
}
